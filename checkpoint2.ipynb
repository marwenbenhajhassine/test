{
  "nbformat": 4,
  "nbformat_minor": 0,
  "metadata": {
    "colab": {
      "name": "checkpoint2.ipynb",
      "provenance": []
    },
    "kernelspec": {
      "name": "python3",
      "display_name": "Python 3"
    },
    "language_info": {
      "name": "python"
    }
  },
  "cells": [
    {
      "cell_type": "code",
      "metadata": {
        "id": "TyGPDwmTl7-L"
      },
      "source": [
        "for x in range(2000,3200):\n",
        "  if (x%7==0 and x%5!=0):\n",
        "    print(x)"
      ],
      "execution_count": null,
      "outputs": []
    },
    {
      "cell_type": "code",
      "metadata": {
        "id": "FcFcVU1FpWSg"
      },
      "source": [
        "x=int(input(\"enter the number\"))\n",
        "f=1\n",
        "for i in range(x,1,-1):\n",
        "  f=f*i\n",
        "print(f)  "
      ],
      "execution_count": null,
      "outputs": []
    },
    {
      "cell_type": "code",
      "metadata": {
        "id": "9cV6S5FztEKr"
      },
      "source": [
        "i=int(input(\"enter any integer >1\"))\n",
        "dict_carre={}\n",
        "for x in range(1,i):\n",
        "  dict_carre[x]=x*x\n",
        "dict_carre\n"
      ],
      "execution_count": null,
      "outputs": []
    },
    {
      "cell_type": "code",
      "metadata": {
        "colab": {
          "base_uri": "https://localhost:8080/"
        },
        "id": "L2gn88Kfmz0q",
        "outputId": "ef5a4724-e5bd-49ad-cbd6-57d42c5c9987"
      },
      "source": [
        "str=input(\"enter the string\")\n",
        "while x>len(str):\n",
        "  x=int(input(\"enter the integer\"))\n",
        "str= str[0 : x : ] + str[x + 1 : :]  \n",
        "print(str)"
      ],
      "execution_count": 30,
      "outputs": [
        {
          "output_type": "stream",
          "name": "stdout",
          "text": [
            "enter the stringmarwen\n",
            "marwn\n"
          ]
        }
      ]
    },
    {
      "cell_type": "code",
      "metadata": {
        "id": "7--c7FqhZZBw"
      },
      "source": [
        "import numpy\n",
        "\n",
        "my_array = []\n",
        "a = int(input(\"Size of array:\"))\n",
        "for i in range(a):\n",
        "    my_array.append(float(input(\"Element:\")))\n",
        "my_array = numpy.array(my_array)\n",
        "\n",
        "list1 = my_array.tolist()\n",
        "print(f'List: {list1}')\n"
      ],
      "execution_count": null,
      "outputs": []
    },
    {
      "cell_type": "code",
      "metadata": {
        "id": "6WsXoL3itcKQ"
      },
      "source": [
        "import numpy\n",
        "\n",
        "my_array = []\n",
        "a = int(input(\"Size of array:\"))\n",
        "for i in range(a):\n",
        "    my_array.append(float(input(\"Element:\")))\n",
        "my_array = numpy.array(my_array)\n",
        "print(np.cov(my_array))"
      ],
      "execution_count": null,
      "outputs": []
    },
    {
      "cell_type": "code",
      "metadata": {
        "colab": {
          "base_uri": "https://localhost:8080/"
        },
        "id": "ceNMj8SvuAsp",
        "outputId": "162596c7-9a63-4ba2-b03e-1cca17666747"
      },
      "source": [
        "import math\n",
        "my_list=[]  \n",
        "n=int(input(\"how many element in the list\"))\n",
        "for i in range(n):\n",
        "  my_list.append(int(input(\"enter element\")))\n",
        "\n",
        "for i in range(n):\n",
        "  my_list[i]=round(math.sqrt((my_list[i]*50*2)/30))\n",
        "print(my_list)  "
      ],
      "execution_count": 43,
      "outputs": [
        {
          "output_type": "stream",
          "name": "stdout",
          "text": [
            "how many element in the list1\n",
            "enter element100\n",
            "[18]\n"
          ]
        }
      ]
    }
  ]
}